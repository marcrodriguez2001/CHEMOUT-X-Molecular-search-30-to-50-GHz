{
 "cells": [
  {
   "cell_type": "markdown",
   "id": "85a73236-1385-44a8-9c80-a1625f9e2232",
   "metadata": {},
   "source": [
    "## Preprocessing Data to Madcuba input"
   ]
  },
  {
   "cell_type": "code",
   "execution_count": 7,
   "id": "f98beb8e-3dea-4c15-a0a6-26ed87fbdaae",
   "metadata": {},
   "outputs": [],
   "source": [
    "import os"
   ]
  },
  {
   "cell_type": "code",
   "execution_count": 9,
   "id": "8491698b-c54d-43c2-83ec-1880e8e21438",
   "metadata": {},
   "outputs": [],
   "source": [
    "import os\n",
    "\n",
    "def add_metadata_and_save_as_ascii(directory):\n",
    "    metadata = \"\"\"UnitSpectral: MHz\n",
    "UnitInten: K \n",
    "Tempscale: TMB \n",
    "VeloType: VRAD-LSR \n",
    "UnitVelo: km s-1 \n",
    "Velocity = 0 \n",
    "Beammaj: 0.0 \n",
    "Beamin: 0.0 \n",
    "Source: MyFavouriteSource\"\"\"\n",
    "\n",
    "    # Obtener la lista de archivos en el directorio\n",
    "    files = os.listdir(directory)\n",
    "\n",
    "    # Iterar sobre cada archivo\n",
    "    for file in files:\n",
    "        # Verificar si el archivo es un archivo .dat\n",
    "        if file.endswith('.dat'):\n",
    "            file_path = os.path.join(directory, file)\n",
    "            # Leer el contenido del archivo .dat\n",
    "            with open(file_path, 'r') as f:\n",
    "                content = f.read()\n",
    "            # Crear un nuevo nombre de archivo con extensión .ascii\n",
    "            new_file_name = os.path.splitext(file)[0] + '.ascii'\n",
    "            new_file_path = os.path.join(directory, new_file_name)\n",
    "            # Escribir los metadatos seguidos por el contenido del archivo .dat en el nuevo archivo .ascii\n",
    "            with open(new_file_path, 'w') as f:\n",
    "                f.write(metadata + '\\n\\n' + content)\n",
    "            print(f\"Se guardó el archivo con metadatos como: {new_file_name}\")\n"
   ]
  },
  {
   "cell_type": "code",
   "execution_count": 13,
   "id": "e1204a57-642e-4efa-b80e-b43df213dede",
   "metadata": {},
   "outputs": [
    {
     "name": "stdout",
     "output_type": "stream",
     "text": [
      "Se guardó el archivo con metadatos como: WB89-640_23A003.final.Tmb.ascii\n",
      "Se guardó el archivo con metadatos como: WB89-315_23A003.final.Tmb.ascii\n",
      "Se guardó el archivo con metadatos como: WB89-440_23A003.final.Tmb.ascii\n",
      "Se guardó el archivo con metadatos como: 19571+3113_23A003.final.Tmb.ascii\n",
      "Se guardó el archivo con metadatos como: WB89-076_23A003.final.Tmb.ascii\n",
      "Se guardó el archivo con metadatos como: WB89-006_23A003.final.Tmb.ascii\n",
      "Se guardó el archivo con metadatos como: WB89-380_23A003.final.Tmb.ascii\n",
      "Se guardó el archivo con metadatos como: WB89-399_23A003.final.Tmb.ascii\n",
      "Se guardó el archivo con metadatos como: WB89-705_23A003.final.Tmb.ascii\n",
      "Se guardó el archivo con metadatos como: WB89-379_23A003.final.Tmb.ascii\n",
      "Se guardó el archivo con metadatos como: WB89-529_23A003.final.Tmb.ascii\n",
      "Se guardó el archivo con metadatos como: WB89-083_23A003.final.Tmb.ascii\n",
      "Se guardó el archivo con metadatos como: WB89-621_23A003.final.Tmb.ascii\n",
      "Se guardó el archivo con metadatos como: WB89-288_23A003.final.Tmb.ascii\n",
      "Se guardó el archivo con metadatos como: WB89-898_23A003.final.Tmb.ascii\n",
      "Se guardó el archivo con metadatos como: WB89-501_23A003.final.Tmb.ascii\n",
      "Se guardó el archivo con metadatos como: WB89-035_23A003.final.Tmb.ascii\n",
      "Se guardó el archivo con metadatos como: WB89-080_23A003.final.Tmb.ascii\n",
      "Se guardó el archivo con metadatos como: 20243+3853_23A003.final.Tmb.ascii\n",
      "Se guardó el archivo con metadatos como: WB89-572_23A003.final.Tmb.ascii\n",
      "Se guardó el archivo con metadatos como: WB89-014_23A003.final.Tmb.ascii\n",
      "Se guardó el archivo con metadatos como: WB89-152_23A003.final.Tmb.ascii\n",
      "Se guardó el archivo con metadatos como: 19489+3030_23A003.final.Tmb.ascii\n",
      "Se guardó el archivo con metadatos como: WB89-793_23A003.final.Tmb.ascii\n",
      "Se guardó el archivo con metadatos como: 19383+2711_23A003.final.Tmb.ascii\n",
      "Se guardó el archivo con metadatos como: WB89-002_23A003.final.Tmb.ascii\n",
      "Se guardó el archivo con metadatos como: WB89-789_23A003.final.Tmb.ascii\n",
      "Se guardó el archivo con metadatos como: WB89-060_23A003.final.Tmb.ascii\n",
      "Se guardó el archivo con metadatos como: WB89-670_23A003.final.Tmb.ascii\n",
      "Se guardó el archivo con metadatos como: WB89-283_23A003.final.Tmb.ascii\n",
      "Se guardó el archivo con metadatos como: WB89-031_23A003.final.Tmb.ascii\n",
      "Se guardó el archivo con metadatos como: WB89-040_23A003.final.Tmb.ascii\n",
      "Se guardó el archivo con metadatos como: WB89-391_23A003.final.Tmb.ascii\n",
      "Se guardó el archivo con metadatos como: 19423+2541_23A003.final.Tmb.ascii\n",
      "Se guardó el archivo con metadatos como: WB89-437_23A003.final.Tmb.ascii\n"
     ]
    }
   ],
   "source": [
    "# Llamada a la función con el directorio deseado\n",
    "directory = '/home/propietario/Escritorio/TFM/ascii_CHEMOUT'\n",
    "\n",
    "add_metadata_and_save_as_ascii(directory)"
   ]
  },
  {
   "cell_type": "code",
   "execution_count": null,
   "id": "0e4622e8-159b-4d96-bfff-d4c48104147d",
   "metadata": {},
   "outputs": [],
   "source": [
    "# Directorio donde se encuentran los archivos .dat\n",
    "directory = '/home/propietario/Escritorio/TFM/ascii_CHEMOUT'"
   ]
  },
  {
   "cell_type": "code",
   "execution_count": 14,
   "id": "522ebb12-3899-49ac-a159-b7028b2b811b",
   "metadata": {},
   "outputs": [
    {
     "name": "stdout",
     "output_type": "stream",
     "text": [
      "Se guardó el archivo con metadatos como: WB89-640_23A003.final.Tmb.ascii\n",
      "Se guardó el archivo con metadatos como: WB89-315_23A003.final.Tmb.ascii\n",
      "Se guardó el archivo con metadatos como: WB89-440_23A003.final.Tmb.ascii\n",
      "Se guardó el archivo con metadatos como: 19571+3113_23A003.final.Tmb.ascii\n",
      "Se guardó el archivo con metadatos como: WB89-076_23A003.final.Tmb.ascii\n",
      "Se guardó el archivo con metadatos como: WB89-006_23A003.final.Tmb.ascii\n",
      "Se guardó el archivo con metadatos como: WB89-380_23A003.final.Tmb.ascii\n",
      "Se guardó el archivo con metadatos como: WB89-399_23A003.final.Tmb.ascii\n",
      "Se guardó el archivo con metadatos como: WB89-705_23A003.final.Tmb.ascii\n",
      "Se guardó el archivo con metadatos como: WB89-379_23A003.final.Tmb.ascii\n",
      "Se guardó el archivo con metadatos como: WB89-529_23A003.final.Tmb.ascii\n",
      "Se guardó el archivo con metadatos como: WB89-083_23A003.final.Tmb.ascii\n",
      "Se guardó el archivo con metadatos como: WB89-621_23A003.final.Tmb.ascii\n",
      "Se guardó el archivo con metadatos como: WB89-288_23A003.final.Tmb.ascii\n",
      "Se guardó el archivo con metadatos como: WB89-898_23A003.final.Tmb.ascii\n",
      "Se guardó el archivo con metadatos como: WB89-501_23A003.final.Tmb.ascii\n",
      "Se guardó el archivo con metadatos como: WB89-035_23A003.final.Tmb.ascii\n",
      "Se guardó el archivo con metadatos como: WB89-080_23A003.final.Tmb.ascii\n",
      "Se guardó el archivo con metadatos como: 20243+3853_23A003.final.Tmb.ascii\n",
      "Se guardó el archivo con metadatos como: WB89-572_23A003.final.Tmb.ascii\n",
      "Se guardó el archivo con metadatos como: WB89-014_23A003.final.Tmb.ascii\n",
      "Se guardó el archivo con metadatos como: WB89-152_23A003.final.Tmb.ascii\n",
      "Se guardó el archivo con metadatos como: 19489+3030_23A003.final.Tmb.ascii\n",
      "Se guardó el archivo con metadatos como: WB89-793_23A003.final.Tmb.ascii\n",
      "Se guardó el archivo con metadatos como: 19383+2711_23A003.final.Tmb.ascii\n",
      "Se guardó el archivo con metadatos como: WB89-002_23A003.final.Tmb.ascii\n",
      "Se guardó el archivo con metadatos como: WB89-789_23A003.final.Tmb.ascii\n",
      "Se guardó el archivo con metadatos como: WB89-060_23A003.final.Tmb.ascii\n",
      "Se guardó el archivo con metadatos como: WB89-670_23A003.final.Tmb.ascii\n",
      "Se guardó el archivo con metadatos como: WB89-283_23A003.final.Tmb.ascii\n",
      "Se guardó el archivo con metadatos como: WB89-031_23A003.final.Tmb.ascii\n",
      "Se guardó el archivo con metadatos como: WB89-040_23A003.final.Tmb.ascii\n",
      "Se guardó el archivo con metadatos como: WB89-391_23A003.final.Tmb.ascii\n",
      "Se guardó el archivo con metadatos como: 19423+2541_23A003.final.Tmb.ascii\n",
      "Se guardó el archivo con metadatos como: WB89-437_23A003.final.Tmb.ascii\n"
     ]
    }
   ],
   "source": [
    "# Llamar a la función para agregar metadatos a los archivos\n",
    "add_metadata_and_save_as_ascii(directory)"
   ]
  },
  {
   "cell_type": "code",
   "execution_count": 15,
   "id": "c8603512-5b6b-4f36-b8b9-bb7b41cc0413",
   "metadata": {},
   "outputs": [],
   "source": [
    "def remove_dat_files(directory):\n",
    "    # Obtener la lista de archivos en el directorio\n",
    "    files = os.listdir(directory)\n",
    "\n",
    "    # Iterar sobre cada archivo\n",
    "    for file in files:\n",
    "        # Verificar si el archivo es un archivo .dat\n",
    "        if file.endswith('.dat'):\n",
    "            file_path = os.path.join(directory, file)\n",
    "            # Eliminar el archivo .dat\n",
    "            os.remove(file_path)\n",
    "            print(f\"Se eliminó el archivo .dat: {file}\")"
   ]
  },
  {
   "cell_type": "code",
   "execution_count": 16,
   "id": "c02f6122-0d5e-4706-a179-6ed60391189b",
   "metadata": {},
   "outputs": [
    {
     "name": "stdout",
     "output_type": "stream",
     "text": [
      "Se eliminó el archivo .dat: WB89-640_23A003.final.Tmb.dat\n",
      "Se eliminó el archivo .dat: WB89-315_23A003.final.Tmb.dat\n",
      "Se eliminó el archivo .dat: WB89-440_23A003.final.Tmb.dat\n",
      "Se eliminó el archivo .dat: 19571+3113_23A003.final.Tmb.dat\n",
      "Se eliminó el archivo .dat: WB89-076_23A003.final.Tmb.dat\n",
      "Se eliminó el archivo .dat: WB89-006_23A003.final.Tmb.dat\n",
      "Se eliminó el archivo .dat: WB89-380_23A003.final.Tmb.dat\n",
      "Se eliminó el archivo .dat: WB89-399_23A003.final.Tmb.dat\n",
      "Se eliminó el archivo .dat: WB89-705_23A003.final.Tmb.dat\n",
      "Se eliminó el archivo .dat: WB89-379_23A003.final.Tmb.dat\n",
      "Se eliminó el archivo .dat: WB89-529_23A003.final.Tmb.dat\n",
      "Se eliminó el archivo .dat: WB89-083_23A003.final.Tmb.dat\n",
      "Se eliminó el archivo .dat: WB89-621_23A003.final.Tmb.dat\n",
      "Se eliminó el archivo .dat: WB89-288_23A003.final.Tmb.dat\n",
      "Se eliminó el archivo .dat: WB89-898_23A003.final.Tmb.dat\n",
      "Se eliminó el archivo .dat: WB89-501_23A003.final.Tmb.dat\n",
      "Se eliminó el archivo .dat: WB89-035_23A003.final.Tmb.dat\n",
      "Se eliminó el archivo .dat: WB89-080_23A003.final.Tmb.dat\n",
      "Se eliminó el archivo .dat: 20243+3853_23A003.final.Tmb.dat\n",
      "Se eliminó el archivo .dat: WB89-572_23A003.final.Tmb.dat\n",
      "Se eliminó el archivo .dat: WB89-014_23A003.final.Tmb.dat\n",
      "Se eliminó el archivo .dat: WB89-152_23A003.final.Tmb.dat\n",
      "Se eliminó el archivo .dat: 19489+3030_23A003.final.Tmb.dat\n",
      "Se eliminó el archivo .dat: WB89-793_23A003.final.Tmb.dat\n",
      "Se eliminó el archivo .dat: 19383+2711_23A003.final.Tmb.dat\n",
      "Se eliminó el archivo .dat: WB89-002_23A003.final.Tmb.dat\n",
      "Se eliminó el archivo .dat: WB89-789_23A003.final.Tmb.dat\n",
      "Se eliminó el archivo .dat: WB89-060_23A003.final.Tmb.dat\n",
      "Se eliminó el archivo .dat: WB89-670_23A003.final.Tmb.dat\n",
      "Se eliminó el archivo .dat: WB89-283_23A003.final.Tmb.dat\n",
      "Se eliminó el archivo .dat: WB89-031_23A003.final.Tmb.dat\n",
      "Se eliminó el archivo .dat: WB89-040_23A003.final.Tmb.dat\n",
      "Se eliminó el archivo .dat: WB89-391_23A003.final.Tmb.dat\n",
      "Se eliminó el archivo .dat: 19423+2541_23A003.final.Tmb.dat\n",
      "Se eliminó el archivo .dat: WB89-437_23A003.final.Tmb.dat\n"
     ]
    }
   ],
   "source": [
    "# Llamar a la función para eliminar los archivos .dat\n",
    "remove_dat_files(directory)"
   ]
  }
 ],
 "metadata": {
  "kernelspec": {
   "display_name": "Python 3 (ipykernel)",
   "language": "python",
   "name": "python3"
  },
  "language_info": {
   "codemirror_mode": {
    "name": "ipython",
    "version": 3
   },
   "file_extension": ".py",
   "mimetype": "text/x-python",
   "name": "python",
   "nbconvert_exporter": "python",
   "pygments_lexer": "ipython3",
   "version": "3.10.14"
  }
 },
 "nbformat": 4,
 "nbformat_minor": 5
}
